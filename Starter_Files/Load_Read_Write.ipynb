{
 "cells": [
  {
   "cell_type": "code",
   "execution_count": 1,
   "id": "7c3e3cb4-ba33-4fce-bb64-b0c71d2e1a72",
   "metadata": {},
   "outputs": [],
   "source": [
    "# for database connections\n",
    "import sqlalchemy\n",
    "from sqlalchemy import create_engine, inspect, text\n",
    "\n",
    "# data\n",
    "import pandas as pd\n",
    "import numpy as np\n",
    "\n",
    "# viz\n",
    "import seaborn as sns\n",
    "import matplotlib.pyplot as plt"
   ]
  },
  {
   "cell_type": "code",
   "execution_count": 2,
   "id": "921558f2-f745-4714-afdb-a10016c49a7c",
   "metadata": {},
   "outputs": [],
   "source": [
    "SQL_USERNAME = 'postgres'\n",
    "SQL_PASSWORD = 'postgres'\n",
    "SQL_IP = 'localhost'\n",
    "PORT = 5432\n",
    "DATABASE = 'project_2_group_19'"
   ]
  },
  {
   "cell_type": "code",
   "execution_count": 3,
   "id": "b2e78f3d-f5a1-465e-9058-81d0cafba74d",
   "metadata": {},
   "outputs": [],
   "source": [
    "connection_string = f\"postgresql+psycopg2://{SQL_USERNAME}:{SQL_PASSWORD}@{SQL_IP}:{PORT}/{DATABASE}\"\n",
    "engine = create_engine(connection_string)"
   ]
  },
  {
   "cell_type": "code",
   "execution_count": 4,
   "id": "bdfac49a-3869-4125-8a0f-a1517ebf03b9",
   "metadata": {},
   "outputs": [
    {
     "name": "stdout",
     "output_type": "stream",
     "text": [
      "contacts\n",
      "-----------\n",
      "contact_id INTEGER\n",
      "first_name VARCHAR(30)\n",
      "last_name VARCHAR(30)\n",
      "email VARCHAR(50)\n",
      "Last_Updated TIMESTAMP\n",
      "\n",
      "campaign\n",
      "-----------\n",
      "cf_id INTEGER\n",
      "contact_id INTEGER\n",
      "company_name VARCHAR(50)\n",
      "description VARCHAR(75)\n",
      "goal DOUBLE PRECISION\n",
      "pledged DOUBLE PRECISION\n",
      "outcome VARCHAR(11)\n",
      "backers_count INTEGER\n",
      "country VARCHAR(4)\n",
      "currency VARCHAR(4)\n",
      "launched_date TIMESTAMP\n",
      "end_date TIMESTAMP\n",
      "category_id CHAR(4)\n",
      "subcategory_id VARCHAR(8)\n",
      "Last_Updated TIMESTAMP\n",
      "\n",
      "category\n",
      "-----------\n",
      "category_id CHAR(4)\n",
      "category VARCHAR(13)\n",
      "Last_Updated TIMESTAMP\n",
      "\n",
      "subcategory\n",
      "-----------\n",
      "subcategory_id VARCHAR(8)\n",
      "subcategory VARCHAR(25)\n",
      "Last_Updated TIMESTAMP\n",
      "\n"
     ]
    }
   ],
   "source": [
    "# Run inspector to verify tables exist\n",
    "# Create the inspector and connect it to the engine\n",
    "inspector = inspect(engine)\n",
    "\n",
    "# Collect the names of tables within the database\n",
    "tables = inspector.get_table_names()\n",
    "\n",
    "# print metadata for each table\n",
    "for table in tables:\n",
    "    print(table)\n",
    "    print(\"-----------\")\n",
    "    \n",
    "    # get columns\n",
    "    columns = inspector.get_columns(table)\n",
    "    for column in columns:\n",
    "        print(column[\"name\"], column[\"type\"])\n",
    "\n",
    "    print()"
   ]
  },
  {
   "cell_type": "code",
   "execution_count": 5,
   "id": "bd53de4a-757e-4cdd-afb4-b4eb093db01b",
   "metadata": {},
   "outputs": [],
   "source": [
    "# Read in the data for each table\n",
    "contacts_df = pd.read_csv(\"Resources/contacts.csv\")\n",
    "category_df = pd.read_csv(\"Resources/category.csv\")\n",
    "subcategory_df = pd.read_csv(\"Resources/subcategory.csv\")\n",
    "campaign_df = pd.read_csv(\"Resources/campaign.csv\")"
   ]
  },
  {
   "cell_type": "code",
   "execution_count": 6,
   "id": "82c8aeab-aab8-4ce7-ad36-bf52bf92c678",
   "metadata": {},
   "outputs": [],
   "source": [
    "# Fix column headers for each table\n",
    "contacts_df.columns = [x.lower() for x in contacts_df.columns]\n",
    "category_df.columns = [x.lower() for x in category_df.columns]\n",
    "subcategory_df.columns = [x.lower() for x in subcategory_df.columns]\n",
    "campaign_df.columns = [x.lower() for x in campaign_df.columns]"
   ]
  },
  {
   "cell_type": "code",
   "execution_count": 7,
   "id": "1c83da69-75fb-422f-83c5-450fb7a7ff2b",
   "metadata": {},
   "outputs": [
    {
     "data": {
      "text/plain": [
       "1000"
      ]
     },
     "execution_count": 7,
     "metadata": {},
     "output_type": "execute_result"
    }
   ],
   "source": [
    "# Upload the data\n",
    "contacts_df.to_sql(\"contacts\", schema='public', con=engine, index=False, if_exists=\"append\", method=\"multi\")\n",
    "category_df.to_sql(\"category\", schema='public', con=engine, index=False, if_exists=\"append\", method=\"multi\")\n",
    "subcategory_df.to_sql(\"subcategory\", schema='public', con=engine, index=False, if_exists=\"append\", method=\"multi\")\n",
    "campaign_df.to_sql(\"campaign\", schema='public', con=engine, index=False, if_exists=\"append\", method=\"multi\")"
   ]
  },
  {
   "cell_type": "code",
   "execution_count": null,
   "id": "f70a93ab-2750-4918-af6e-fbd745cefa51",
   "metadata": {},
   "outputs": [],
   "source": []
  },
  {
   "cell_type": "code",
   "execution_count": null,
   "id": "919c5941-f078-458c-a9b3-57b774082e89",
   "metadata": {},
   "outputs": [],
   "source": []
  },
  {
   "cell_type": "code",
   "execution_count": null,
   "id": "43a8b6b2-706e-4d56-84dd-13cab7fd959b",
   "metadata": {},
   "outputs": [],
   "source": []
  },
  {
   "cell_type": "code",
   "execution_count": null,
   "id": "57289e8b-554c-430c-a530-a33ac2219fc4",
   "metadata": {},
   "outputs": [],
   "source": []
  },
  {
   "cell_type": "code",
   "execution_count": null,
   "id": "ec1392bc-6175-456a-8f08-4c3383ed775e",
   "metadata": {},
   "outputs": [],
   "source": []
  }
 ],
 "metadata": {
  "kernelspec": {
   "display_name": "Python 3 (ipykernel)",
   "language": "python",
   "name": "python3"
  },
  "language_info": {
   "codemirror_mode": {
    "name": "ipython",
    "version": 3
   },
   "file_extension": ".py",
   "mimetype": "text/x-python",
   "name": "python",
   "nbconvert_exporter": "python",
   "pygments_lexer": "ipython3",
   "version": "3.10.13"
  }
 },
 "nbformat": 4,
 "nbformat_minor": 5
}
