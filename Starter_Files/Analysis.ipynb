{
 "cells": [
  {
   "cell_type": "markdown",
   "id": "0a3a0212-1a7c-4c7c-88c7-df0ab0dd7ebe",
   "metadata": {},
   "source": [
    "### Setup"
   ]
  },
  {
   "cell_type": "code",
   "execution_count": 1,
   "id": "4b1e168c-499f-4dbb-b8f5-626f8e1148b8",
   "metadata": {},
   "outputs": [],
   "source": [
    "# Python SQL toolkit and Object Relational Mapper\n",
    "import sqlalchemy\n",
    "from sqlalchemy.ext.automap import automap_base\n",
    "from sqlalchemy.orm import Session\n",
    "from sqlalchemy.sql import extract\n",
    "from sqlalchemy import create_engine, text, inspect, func\n",
    "\n",
    "# data\n",
    "import pandas as pd\n",
    "import numpy as np\n",
    "import datetime as dt\n",
    "\n",
    "# viz\n",
    "import seaborn as sns\n",
    "import matplotlib.pyplot as plt\n",
    "\n",
    "# Create a base using 'automap_base()' for reflection\n",
    "Base = automap_base()"
   ]
  },
  {
   "cell_type": "code",
   "execution_count": 2,
   "id": "506e2e58-f6ba-4138-922d-7852a7609d6e",
   "metadata": {},
   "outputs": [],
   "source": [
    "SQL_USERNAME = 'postgres'\n",
    "SQL_PASSWORD = 'postgres'\n",
    "SQL_IP = 'localhost'\n",
    "PORT = 5432\n",
    "DATABASE = 'project_2_group_19'"
   ]
  },
  {
   "cell_type": "code",
   "execution_count": 3,
   "id": "87c64548-04d8-46bc-947f-006e8f1d83ef",
   "metadata": {},
   "outputs": [],
   "source": [
    "connection_string = f\"postgresql+psycopg2://{SQL_USERNAME}:{SQL_PASSWORD}@{SQL_IP}:{PORT}/{DATABASE}\"\n",
    "engine = create_engine(connection_string)"
   ]
  },
  {
   "cell_type": "code",
   "execution_count": 4,
   "id": "dc14f305-37a7-44cd-afd5-d1a02e97ff00",
   "metadata": {},
   "outputs": [],
   "source": [
    "# Automap base and then use the orm\n",
    "Base.prepare(autoload_with=engine)"
   ]
  },
  {
   "cell_type": "code",
   "execution_count": 5,
   "id": "7da5e10e-b78e-442a-8cef-3caf722b84d4",
   "metadata": {},
   "outputs": [
    {
     "data": {
      "text/plain": [
       "['category', 'campaign', 'contacts', 'subcategory']"
      ]
     },
     "execution_count": 5,
     "metadata": {},
     "output_type": "execute_result"
    }
   ],
   "source": [
    "# Print all of the classes mapped to the Base\n",
    "Base.classes.keys()"
   ]
  },
  {
   "cell_type": "code",
   "execution_count": 6,
   "id": "86102677-4b66-43a1-823a-9ad5a47366d6",
   "metadata": {},
   "outputs": [],
   "source": [
    "# Save references to the classes\n",
    "Contacts = Base.classes.contacts\n",
    "Category = Base.classes.category\n",
    "Subcategory = Base.classes.subcategory\n",
    "Campaign = Base.classes.campaign"
   ]
  },
  {
   "cell_type": "code",
   "execution_count": 7,
   "id": "e73b9b92-dc75-46b2-95ef-6e30a9df0c16",
   "metadata": {},
   "outputs": [],
   "source": [
    "# Create a session\n",
    "session = Session(engine)"
   ]
  },
  {
   "cell_type": "markdown",
   "id": "32a4520b-fcbf-4829-bc23-42f2ee62e877",
   "metadata": {},
   "source": [
    "### Analysis #1: Get the outcomes by month that projects were started"
   ]
  },
  {
   "cell_type": "code",
   "execution_count": 23,
   "id": "337af8d0-cca7-4ea7-acb7-8e95753f149f",
   "metadata": {},
   "outputs": [],
   "source": [
    "# Extract the launch date from the Campaign column\n",
    "launchdate = session.query(Campaign.launched_date).all()"
   ]
  },
  {
   "cell_type": "code",
   "execution_count": 24,
   "id": "cdee3c27-e9aa-4aea-8fad-ede1d076d126",
   "metadata": {},
   "outputs": [],
   "source": [
    "# Get the months each campaign started in\n",
    "months = []\n",
    "\n",
    "for date in launchdate:\n",
    "    launch_date = date[0]\n",
    "    month = pd.to_datetime(launch_date).month\n",
    "\n",
    "    months.append(month)"
   ]
  },
  {
   "cell_type": "code",
   "execution_count": 25,
   "id": "7c4936d4-ec79-4167-8c55-a17309bcb4f5",
   "metadata": {},
   "outputs": [
    {
     "data": {
      "text/html": [
       "<div>\n",
       "<style scoped>\n",
       "    .dataframe tbody tr th:only-of-type {\n",
       "        vertical-align: middle;\n",
       "    }\n",
       "\n",
       "    .dataframe tbody tr th {\n",
       "        vertical-align: top;\n",
       "    }\n",
       "\n",
       "    .dataframe thead th {\n",
       "        text-align: right;\n",
       "    }\n",
       "</style>\n",
       "<table border=\"1\" class=\"dataframe\">\n",
       "  <thead>\n",
       "    <tr style=\"text-align: right;\">\n",
       "      <th></th>\n",
       "      <th>outcome</th>\n",
       "      <th>country</th>\n",
       "    </tr>\n",
       "  </thead>\n",
       "  <tbody>\n",
       "    <tr>\n",
       "      <th>0</th>\n",
       "      <td>failed</td>\n",
       "      <td>CA</td>\n",
       "    </tr>\n",
       "    <tr>\n",
       "      <th>1</th>\n",
       "      <td>successful</td>\n",
       "      <td>US</td>\n",
       "    </tr>\n",
       "    <tr>\n",
       "      <th>2</th>\n",
       "      <td>successful</td>\n",
       "      <td>US</td>\n",
       "    </tr>\n",
       "    <tr>\n",
       "      <th>3</th>\n",
       "      <td>failed</td>\n",
       "      <td>US</td>\n",
       "    </tr>\n",
       "    <tr>\n",
       "      <th>4</th>\n",
       "      <td>successful</td>\n",
       "      <td>US</td>\n",
       "    </tr>\n",
       "  </tbody>\n",
       "</table>\n",
       "</div>"
      ],
      "text/plain": [
       "      outcome country\n",
       "0      failed      CA\n",
       "1  successful      US\n",
       "2  successful      US\n",
       "3      failed      US\n",
       "4  successful      US"
      ]
     },
     "execution_count": 25,
     "metadata": {},
     "output_type": "execute_result"
    }
   ],
   "source": [
    "# Get the outcome and country columns\n",
    "data = session.query(Campaign.outcome, Campaign.country).all()\n",
    "\n",
    "outcome_df = pd.DataFrame(data)\n",
    "outcome_df.head()"
   ]
  },
  {
   "cell_type": "code",
   "execution_count": 26,
   "id": "0578ff17-fbaf-4a4a-8da6-11343a8a4590",
   "metadata": {},
   "outputs": [
    {
     "data": {
      "text/html": [
       "<div>\n",
       "<style scoped>\n",
       "    .dataframe tbody tr th:only-of-type {\n",
       "        vertical-align: middle;\n",
       "    }\n",
       "\n",
       "    .dataframe tbody tr th {\n",
       "        vertical-align: top;\n",
       "    }\n",
       "\n",
       "    .dataframe thead th {\n",
       "        text-align: right;\n",
       "    }\n",
       "</style>\n",
       "<table border=\"1\" class=\"dataframe\">\n",
       "  <thead>\n",
       "    <tr style=\"text-align: right;\">\n",
       "      <th></th>\n",
       "      <th>outcome</th>\n",
       "      <th>country</th>\n",
       "      <th>month</th>\n",
       "    </tr>\n",
       "  </thead>\n",
       "  <tbody>\n",
       "    <tr>\n",
       "      <th>0</th>\n",
       "      <td>failed</td>\n",
       "      <td>CA</td>\n",
       "      <td>2</td>\n",
       "    </tr>\n",
       "    <tr>\n",
       "      <th>1</th>\n",
       "      <td>successful</td>\n",
       "      <td>US</td>\n",
       "      <td>6</td>\n",
       "    </tr>\n",
       "    <tr>\n",
       "      <th>2</th>\n",
       "      <td>successful</td>\n",
       "      <td>US</td>\n",
       "      <td>11</td>\n",
       "    </tr>\n",
       "    <tr>\n",
       "      <th>3</th>\n",
       "      <td>failed</td>\n",
       "      <td>US</td>\n",
       "      <td>5</td>\n",
       "    </tr>\n",
       "    <tr>\n",
       "      <th>4</th>\n",
       "      <td>successful</td>\n",
       "      <td>US</td>\n",
       "      <td>1</td>\n",
       "    </tr>\n",
       "  </tbody>\n",
       "</table>\n",
       "</div>"
      ],
      "text/plain": [
       "      outcome country  month\n",
       "0      failed      CA      2\n",
       "1  successful      US      6\n",
       "2  successful      US     11\n",
       "3      failed      US      5\n",
       "4  successful      US      1"
      ]
     },
     "execution_count": 26,
     "metadata": {},
     "output_type": "execute_result"
    }
   ],
   "source": [
    "# Add the month list to the outcome_df\n",
    "outcome_df[\"month\"] = months\n",
    "outcome_df.head()"
   ]
  },
  {
   "cell_type": "code",
   "execution_count": 27,
   "id": "853a834c-1fe8-4844-88b7-308e7ea0c718",
   "metadata": {},
   "outputs": [],
   "source": [
    "# Filter based on outcome\n",
    "filter1 = outcome_df.outcome == 'canceled'\n",
    "canceled = outcome_df.loc[filter1].groupby(outcome_df.month).count()\n",
    "\n",
    "filter2 =  outcome_df.outcome == 'failed'\n",
    "failed = outcome_df.loc[filter2].groupby(outcome_df.month).count()\n",
    "\n",
    "filter3 = outcome_df.outcome == 'successful'\n",
    "successful = outcome_df.loc[filter3].groupby(outcome_df.month).count()"
   ]
  },
  {
   "cell_type": "code",
   "execution_count": 28,
   "id": "b1739821-63a9-4e29-bc4f-84958646d6e4",
   "metadata": {},
   "outputs": [
    {
     "data": {
      "image/png": "[encoded data removed]",
      "text/plain": [
       "<Figure size 1000x600 with 1 Axes>"
      ]
     },
     "metadata": {},
     "output_type": "display_data"
    }
   ],
   "source": [
    "# List of months to names\n",
    "month_names = ['January',\n",
    "              'February',\n",
    "              'March',\n",
    "              'April',\n",
    "              'May',\n",
    "              'June',\n",
    "              'July',\n",
    "              'August',\n",
    "              'September',\n",
    "              'October',\n",
    "              'November',\n",
    "              'December']\n",
    "\n",
    "# Make a line charts\n",
    "plt.figure(figsize=(10,6))\n",
    "ax = plt.axes()\n",
    "\n",
    "# Make the plots\n",
    "plt.plot(canceled.month, label='canceled', color='#D81E5B')\n",
    "plt.plot(failed.month, label='failed', color='#C6D8D3')\n",
    "plt.plot(successful.month, label='successful', color='#F0544F')\n",
    "\n",
    "# Add stuff to the plots\n",
    "# For help with x-tick labels: https://www.geeksforgeeks.org/matplotlib-setting-ticks-and-tick-labels/\n",
    "ax.set_xticks(np.arange(1, 13))\n",
    "ax.set_xticklabels(month_names)\n",
    "plt.xticks(rotation=90, fontfamily='monospace')\n",
    "plt.ylabel('Number of campaigns', fontfamily='monospace', fontsize=12)\n",
    "plt.title('Number of campaigns by outcome per starting month', fontfamily='monospace', fontsize=16)\n",
    "\n",
    "plt.legend()\n",
    "plt.show()"
   ]
  },
  {
   "cell_type": "markdown",
   "id": "7b202df2-cf98-4348-a57c-efbef1a010d3",
   "metadata": {},
   "source": [
    "### Analysis #2: Get the outcomes per each category type"
   ]
  },
  {
   "cell_type": "code",
   "execution_count": 45,
   "id": "6c6f5e5d-1b0c-42a9-a6f4-b4cf540683cc",
   "metadata": {},
   "outputs": [
    {
     "data": {
      "text/html": [
       "<div>\n",
       "<style scoped>\n",
       "    .dataframe tbody tr th:only-of-type {\n",
       "        vertical-align: middle;\n",
       "    }\n",
       "\n",
       "    .dataframe tbody tr th {\n",
       "        vertical-align: top;\n",
       "    }\n",
       "\n",
       "    .dataframe thead th {\n",
       "        text-align: right;\n",
       "    }\n",
       "</style>\n",
       "<table border=\"1\" class=\"dataframe\">\n",
       "  <thead>\n",
       "    <tr style=\"text-align: right;\">\n",
       "      <th></th>\n",
       "      <th>outcome</th>\n",
       "      <th>category</th>\n",
       "    </tr>\n",
       "  </thead>\n",
       "  <tbody>\n",
       "    <tr>\n",
       "      <th>0</th>\n",
       "      <td>failed</td>\n",
       "      <td>food</td>\n",
       "    </tr>\n",
       "    <tr>\n",
       "      <th>1</th>\n",
       "      <td>successful</td>\n",
       "      <td>food</td>\n",
       "    </tr>\n",
       "    <tr>\n",
       "      <th>2</th>\n",
       "      <td>successful</td>\n",
       "      <td>food</td>\n",
       "    </tr>\n",
       "    <tr>\n",
       "      <th>3</th>\n",
       "      <td>failed</td>\n",
       "      <td>food</td>\n",
       "    </tr>\n",
       "    <tr>\n",
       "      <th>4</th>\n",
       "      <td>successful</td>\n",
       "      <td>food</td>\n",
       "    </tr>\n",
       "    <tr>\n",
       "      <th>...</th>\n",
       "      <td>...</td>\n",
       "      <td>...</td>\n",
       "    </tr>\n",
       "    <tr>\n",
       "      <th>995</th>\n",
       "      <td>canceled</td>\n",
       "      <td>photography</td>\n",
       "    </tr>\n",
       "    <tr>\n",
       "      <th>996</th>\n",
       "      <td>successful</td>\n",
       "      <td>journalism</td>\n",
       "    </tr>\n",
       "    <tr>\n",
       "      <th>997</th>\n",
       "      <td>successful</td>\n",
       "      <td>journalism</td>\n",
       "    </tr>\n",
       "    <tr>\n",
       "      <th>998</th>\n",
       "      <td>successful</td>\n",
       "      <td>journalism</td>\n",
       "    </tr>\n",
       "    <tr>\n",
       "      <th>999</th>\n",
       "      <td>successful</td>\n",
       "      <td>journalism</td>\n",
       "    </tr>\n",
       "  </tbody>\n",
       "</table>\n",
       "<p>1000 rows × 2 columns</p>\n",
       "</div>"
      ],
      "text/plain": [
       "        outcome     category\n",
       "0        failed         food\n",
       "1    successful         food\n",
       "2    successful         food\n",
       "3        failed         food\n",
       "4    successful         food\n",
       "..          ...          ...\n",
       "995    canceled  photography\n",
       "996  successful   journalism\n",
       "997  successful   journalism\n",
       "998  successful   journalism\n",
       "999  successful   journalism\n",
       "\n",
       "[1000 rows x 2 columns]"
      ]
     },
     "execution_count": 45,
     "metadata": {},
     "output_type": "execute_result"
    }
   ],
   "source": [
    "# Do a join on the campaign and category tables\n",
    "query_results = session.query(Campaign.outcome, Category.category).filter(Campaign.category_id == Category.category_id).all()\n",
    "cat_outcome_df = pd.DataFrame(query_results)\n",
    "cat_outcome_df"
   ]
  },
  {
   "cell_type": "code",
   "execution_count": 67,
   "id": "d1a78705-12ca-46c3-b111-c18186e59192",
   "metadata": {},
   "outputs": [
    {
     "data": {
      "text/html": [
       "<div>\n",
       "<style scoped>\n",
       "    .dataframe tbody tr th:only-of-type {\n",
       "        vertical-align: middle;\n",
       "    }\n",
       "\n",
       "    .dataframe tbody tr th {\n",
       "        vertical-align: top;\n",
       "    }\n",
       "\n",
       "    .dataframe thead th {\n",
       "        text-align: right;\n",
       "    }\n",
       "</style>\n",
       "<table border=\"1\" class=\"dataframe\">\n",
       "  <thead>\n",
       "    <tr style=\"text-align: right;\">\n",
       "      <th></th>\n",
       "      <th>outcome</th>\n",
       "      <th>category</th>\n",
       "    </tr>\n",
       "    <tr>\n",
       "      <th>category</th>\n",
       "      <th></th>\n",
       "      <th></th>\n",
       "    </tr>\n",
       "  </thead>\n",
       "  <tbody>\n",
       "    <tr>\n",
       "      <th>film &amp; video</th>\n",
       "      <td>11</td>\n",
       "      <td>11</td>\n",
       "    </tr>\n",
       "    <tr>\n",
       "      <th>food</th>\n",
       "      <td>4</td>\n",
       "      <td>4</td>\n",
       "    </tr>\n",
       "    <tr>\n",
       "      <th>games</th>\n",
       "      <td>1</td>\n",
       "      <td>1</td>\n",
       "    </tr>\n",
       "    <tr>\n",
       "      <th>music</th>\n",
       "      <td>10</td>\n",
       "      <td>10</td>\n",
       "    </tr>\n",
       "    <tr>\n",
       "      <th>photography</th>\n",
       "      <td>4</td>\n",
       "      <td>4</td>\n",
       "    </tr>\n",
       "    <tr>\n",
       "      <th>publishing</th>\n",
       "      <td>2</td>\n",
       "      <td>2</td>\n",
       "    </tr>\n",
       "    <tr>\n",
       "      <th>technology</th>\n",
       "      <td>2</td>\n",
       "      <td>2</td>\n",
       "    </tr>\n",
       "    <tr>\n",
       "      <th>theater</th>\n",
       "      <td>23</td>\n",
       "      <td>23</td>\n",
       "    </tr>\n",
       "  </tbody>\n",
       "</table>\n",
       "</div>"
      ],
      "text/plain": [
       "              outcome  category\n",
       "category                       \n",
       "film & video       11        11\n",
       "food                4         4\n",
       "games               1         1\n",
       "music              10        10\n",
       "photography         4         4\n",
       "publishing          2         2\n",
       "technology          2         2\n",
       "theater            23        23"
      ]
     },
     "execution_count": 67,
     "metadata": {},
     "output_type": "execute_result"
    }
   ],
   "source": [
    "# Filter based on outcome\n",
    "filter1 = cat_outcome_df.outcome == 'canceled'\n",
    "canceled1 = cat_outcome_df.loc[filter1].groupby(cat_outcome_df.category).count()\n",
    "\n",
    "filter2 =  cat_outcome_df.outcome == 'failed'\n",
    "failed1 = cat_outcome_df.loc[filter2].groupby(cat_outcome_df.category).count()\n",
    "\n",
    "filter3 = cat_outcome_df.outcome == 'successful'\n",
    "successful1 = cat_outcome_df.loc[filter3].groupby(cat_outcome_df.category).count()\n",
    "\n",
    "filter4 = cat_outcome_df.outcome == 'live'\n",
    "live1 = cat_outcome_df.loc[filter4].groupby(cat_outcome_df.category).count()\n",
    "\n",
    "canceled1"
   ]
  },
  {
   "cell_type": "code",
   "execution_count": 41,
   "id": "8f97f2bc-b439-4c2c-ac2e-1a35c1b35464",
   "metadata": {},
   "outputs": [
    {
     "data": {
      "text/html": [
       "<div>\n",
       "<style scoped>\n",
       "    .dataframe tbody tr th:only-of-type {\n",
       "        vertical-align: middle;\n",
       "    }\n",
       "\n",
       "    .dataframe tbody tr th {\n",
       "        vertical-align: top;\n",
       "    }\n",
       "\n",
       "    .dataframe thead th {\n",
       "        text-align: right;\n",
       "    }\n",
       "</style>\n",
       "<table border=\"1\" class=\"dataframe\">\n",
       "  <thead>\n",
       "    <tr style=\"text-align: right;\">\n",
       "      <th></th>\n",
       "      <th>outcome</th>\n",
       "    </tr>\n",
       "    <tr>\n",
       "      <th>category</th>\n",
       "      <th></th>\n",
       "    </tr>\n",
       "  </thead>\n",
       "  <tbody>\n",
       "    <tr>\n",
       "      <th>film &amp; video</th>\n",
       "      <td>11</td>\n",
       "    </tr>\n",
       "    <tr>\n",
       "      <th>food</th>\n",
       "      <td>4</td>\n",
       "    </tr>\n",
       "    <tr>\n",
       "      <th>games</th>\n",
       "      <td>1</td>\n",
       "    </tr>\n",
       "    <tr>\n",
       "      <th>music</th>\n",
       "      <td>10</td>\n",
       "    </tr>\n",
       "    <tr>\n",
       "      <th>photography</th>\n",
       "      <td>4</td>\n",
       "    </tr>\n",
       "    <tr>\n",
       "      <th>publishing</th>\n",
       "      <td>2</td>\n",
       "    </tr>\n",
       "    <tr>\n",
       "      <th>technology</th>\n",
       "      <td>2</td>\n",
       "    </tr>\n",
       "    <tr>\n",
       "      <th>theater</th>\n",
       "      <td>23</td>\n",
       "    </tr>\n",
       "  </tbody>\n",
       "</table>\n",
       "</div>"
      ],
      "text/plain": [
       "              outcome\n",
       "category             \n",
       "film & video       11\n",
       "food                4\n",
       "games               1\n",
       "music              10\n",
       "photography         4\n",
       "publishing          2\n",
       "technology          2\n",
       "theater            23"
      ]
     },
     "execution_count": 41,
     "metadata": {},
     "output_type": "execute_result"
    }
   ],
   "source": [
    "canceled1.drop(columns='category')"
   ]
  },
  {
   "cell_type": "code",
   "execution_count": 74,
   "id": "cf3b0b57-ec2e-497b-bc75-1b5b092bb3b5",
   "metadata": {},
   "outputs": [
    {
     "data": {
      "text/html": [
       "<div>\n",
       "<style scoped>\n",
       "    .dataframe tbody tr th:only-of-type {\n",
       "        vertical-align: middle;\n",
       "    }\n",
       "\n",
       "    .dataframe tbody tr th {\n",
       "        vertical-align: top;\n",
       "    }\n",
       "\n",
       "    .dataframe thead th {\n",
       "        text-align: right;\n",
       "    }\n",
       "</style>\n",
       "<table border=\"1\" class=\"dataframe\">\n",
       "  <thead>\n",
       "    <tr style=\"text-align: right;\">\n",
       "      <th></th>\n",
       "      <th>outcome</th>\n",
       "    </tr>\n",
       "  </thead>\n",
       "  <tbody>\n",
       "    <tr>\n",
       "      <th>film &amp; video</th>\n",
       "      <td>11</td>\n",
       "    </tr>\n",
       "    <tr>\n",
       "      <th>food</th>\n",
       "      <td>4</td>\n",
       "    </tr>\n",
       "    <tr>\n",
       "      <th>games</th>\n",
       "      <td>1</td>\n",
       "    </tr>\n",
       "    <tr>\n",
       "      <th>journalism</th>\n",
       "      <td>0</td>\n",
       "    </tr>\n",
       "    <tr>\n",
       "      <th>music</th>\n",
       "      <td>10</td>\n",
       "    </tr>\n",
       "    <tr>\n",
       "      <th>photography</th>\n",
       "      <td>4</td>\n",
       "    </tr>\n",
       "    <tr>\n",
       "      <th>publishing</th>\n",
       "      <td>2</td>\n",
       "    </tr>\n",
       "    <tr>\n",
       "      <th>technology</th>\n",
       "      <td>2</td>\n",
       "    </tr>\n",
       "    <tr>\n",
       "      <th>theater</th>\n",
       "      <td>23</td>\n",
       "    </tr>\n",
       "  </tbody>\n",
       "</table>\n",
       "</div>"
      ],
      "text/plain": [
       "              outcome\n",
       "film & video       11\n",
       "food                4\n",
       "games               1\n",
       "journalism          0\n",
       "music              10\n",
       "photography         4\n",
       "publishing          2\n",
       "technology          2\n",
       "theater            23"
      ]
     },
     "execution_count": 74,
     "metadata": {},
     "output_type": "execute_result"
    }
   ],
   "source": [
    "# To add new row to the DataFrame with help from: https://stackoverflow.com/a/24287210/23471668\n",
    "canceled2 = pd.DataFrame([0], columns=['outcome'], index=['journalism'])\n",
    "canceled3 = pd.concat([canceled1, canceled2]).drop(columns='category')\n",
    "\n",
    "# Reindexing from: https://stackoverflow.com/a/30010004/23471668\n",
    "can = canceled3.reindex(['film & video', 'food', 'games', 'journalism', 'music', 'photography',\n",
    "       'publishing', 'technology', 'theater'])\n",
    "can"
   ]
  },
  {
   "cell_type": "code",
   "execution_count": 16,
   "id": "61f0466f-8d86-433d-9333-93a3b9b09011",
   "metadata": {},
   "outputs": [],
   "source": [
    "df = cat_outcome_df.groupby(cat_outcome_df.category)"
   ]
  },
  {
   "cell_type": "code",
   "execution_count": null,
   "id": "9408f7bf-0139-4c9e-8d3f-7532953202ac",
   "metadata": {},
   "outputs": [],
   "source": [
    "# Creating the Series \n",
    "sr = pd.Series(['film & video', 'food', 'games', 'journalism', 'music', 'photography',\n",
    "       'publishing', 'technology', 'theater']) \n",
    "  \n",
    "# Create the Index \n",
    "index_ = ['City 1', 'City 2', 'City 3', 'City 4', 'City 5', 'City 6'] \n",
    "  \n",
    "# set the index \n",
    "sr.index = index_ \n",
    "  \n",
    "# Print the series \n",
    "print(sr)"
   ]
  },
  {
   "cell_type": "code",
   "execution_count": 17,
   "id": "07fde0ad-72ad-4323-adf0-0a8a7f7636e7",
   "metadata": {},
   "outputs": [
    {
     "data": {
      "text/plain": [
       "outcome\n",
       "canceled       57\n",
       "failed        364\n",
       "live           14\n",
       "successful    565\n",
       "Name: category, dtype: int64"
      ]
     },
     "execution_count": 17,
     "metadata": {},
     "output_type": "execute_result"
    }
   ],
   "source": [
    "cat_outcome_df['category'].groupby(cat_outcome_df.outcome).count()"
   ]
  },
  {
   "cell_type": "code",
   "execution_count": 42,
   "id": "3887553d-18fb-4f33-b1cd-8e17d8b3caf3",
   "metadata": {},
   "outputs": [],
   "source": [
    "canceled1.outcome['journalism']=0"
   ]
  },
  {
   "cell_type": "code",
   "execution_count": 43,
   "id": "3d666980-20eb-4dd2-84fe-1b03abdf557e",
   "metadata": {},
   "outputs": [
    {
     "data": {
      "text/plain": [
       "8"
      ]
     },
     "execution_count": 43,
     "metadata": {},
     "output_type": "execute_result"
    }
   ],
   "source": [
    "len(canceled1.outcome)"
   ]
  },
  {
   "cell_type": "code",
   "execution_count": 171,
   "id": "81a63fd0-d0c4-4322-b59f-570fca275a42",
   "metadata": {},
   "outputs": [
    {
     "data": {
      "text/plain": [
       "Index(['film & video', 'food', 'games', 'journalism', 'music', 'photography',\n",
       "       'publishing', 'technology', 'theater'],\n",
       "      dtype='object', name='category')"
      ]
     },
     "execution_count": 171,
     "metadata": {},
     "output_type": "execute_result"
    }
   ],
   "source": [
    "successful.index"
   ]
  },
  {
   "cell_type": "code",
   "execution_count": 35,
   "id": "d8bee1a6-5310-46f4-847f-c333cecc82f4",
   "metadata": {},
   "outputs": [
    {
     "data": {
      "image/png": "[encoded data removed]",
      "text/plain": [
       "<Figure size 1000x600 with 1 Axes>"
      ]
     },
     "metadata": {},
     "output_type": "display_data"
    }
   ],
   "source": [
    "# Make a stacked bar\n",
    "plt.figure(figsize=(10,6))\n",
    "\n",
    "x = ['film & video', 'food','games','journalism','music','photography','publishing','technology','theater']\n",
    "y1 = canceled1.outcome\n",
    "#y2 = failed1.outcome\n",
    "y3 = successful1.outcome\n",
    "#y4 = live1.outcome\n",
    "\n",
    "# Make the plots\n",
    "# plt.bar(x, y1, label='canceled', color='#D81E5B')\n",
    "# plt.bar(x, y2, bottom=y1, label='failed', color='#C6D8D3')\n",
    "plt.bar(x, y3, label='successful', color='#F0544F')\n",
    "# plt.bar(x, y4, bottom=y1+y2+y3, label='live', color='#3A3335')\n",
    "\n",
    "# Add stuff to the plots\n",
    "plt.xlabel('Category', fontfamily='monospace', fontsize=12)\n",
    "plt.ylabel('Number of campaigns', fontfamily='monospace', fontsize=12)\n",
    "plt.title('Number of campaigns by outcome per category', fontfamily='monospace', fontsize=16)\n",
    "\n",
    "plt.legend()\n",
    "plt.show()"
   ]
  },
  {
   "cell_type": "code",
   "execution_count": null,
   "id": "1871fedf-566b-4d6b-9d62-026f03b240e2",
   "metadata": {},
   "outputs": [],
   "source": []
  },
  {
   "cell_type": "code",
   "execution_count": null,
   "id": "622def9c-f0b5-410c-8046-ec852fbf0073",
   "metadata": {},
   "outputs": [],
   "source": []
  },
  {
   "cell_type": "code",
   "execution_count": null,
   "id": "bfaa2039-9ee8-43f8-a655-d10a0fe47d63",
   "metadata": {},
   "outputs": [],
   "source": []
  },
  {
   "cell_type": "code",
   "execution_count": null,
   "id": "05701e52-a7c9-4dba-aafb-f771fce16237",
   "metadata": {},
   "outputs": [],
   "source": []
  },
  {
   "cell_type": "code",
   "execution_count": null,
   "id": "44bb06fa-36cb-44d7-8d5d-3d17ec905e56",
   "metadata": {},
   "outputs": [],
   "source": []
  },
  {
   "cell_type": "code",
   "execution_count": 68,
   "id": "2d5582d0-ed89-4cef-8606-930295c5f2fb",
   "metadata": {},
   "outputs": [],
   "source": [
    "# End session/engine\n",
    "engine.dispose()\n",
    "session.close()"
   ]
  }
 ],
 "metadata": {
  "kernelspec": {
   "display_name": "Python 3 (ipykernel)",
   "language": "python",
   "name": "python3"
  },
  "language_info": {
   "codemirror_mode": {
    "name": "ipython",
    "version": 3
   },
   "file_extension": ".py",
   "mimetype": "text/x-python",
   "name": "python",
   "nbconvert_exporter": "python",
   "pygments_lexer": "ipython3",
   "version": "3.10.13"
  }
 },
 "nbformat": 4,
 "nbformat_minor": 5
}
